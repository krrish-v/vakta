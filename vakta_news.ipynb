{
  "nbformat": 4,
  "nbformat_minor": 0,
  "metadata": {
    "colab": {
      "provenance": []
    },
    "kernelspec": {
      "name": "python3",
      "display_name": "Python 3"
    },
    "language_info": {
      "name": "python"
    }
  },
  "cells": [
    {
      "cell_type": "code",
      "source": [
        "import requests\n",
        "\n",
        "def fetch_news_by_category(api_key, category, max_description_length=100):\n",
        "    base_url = 'https://newsapi.org/v2/top-headlines'\n",
        "    params = {\n",
        "        'apiKey': api_key,\n",
        "        'category': category,\n",
        "        'pageSize': 3,  # You can adjust the number of articles you want to fetch\n",
        "        'language': 'en',  # Fetch only English news\n",
        "        'sortBy': 'publishedAt'  # Sort by latest published articles\n",
        "    }\n",
        "\n",
        "    try:\n",
        "        response = requests.get(base_url, params=params)\n",
        "        data = response.json()\n",
        "        if data['status'] == 'ok':\n",
        "            articles = data['articles']\n",
        "            for article in articles:\n",
        "                print(f\"Title: {article['title']}\")\n",
        "                print(f\"Source: {article['source']['name']}\")\n",
        "                # limiting the description size to max_description_length\n",
        "                description = article['description']\n",
        "                truncated_description = \"\"\n",
        "                if description is not None:\n",
        "                    truncated_description = description[:max_description_length] + \"...\" if len(description) > max_description_length else description\n",
        "                print(f\"Description: {truncated_description}\")\n",
        "                # print(f\"URL: {article['url']}\")\n",
        "                print(\"-----------------------\")\n",
        "        else:\n",
        "            print(\"Error while fetching news data.\")\n",
        "    except requests.exceptions.RequestException as e:\n",
        "        print(f\"Error: {e}\")\n",
        "\n",
        "if __name__ == '__main__':\n",
        "    # Replace 'YOUR_API_KEY' with your actual News API key\n",
        "    api_key = '<API KEY>",
        "    category = 'sports'  # You can change this to any other category like 'entertainment', 'sports', etc.\n",
        "    fetch_news_by_category(api_key, category)\n"
      ],
      "metadata": {
        "colab": {
          "base_uri": "https://localhost:8080/"
        },
        "id": "zwwgRIhtYJE1",
        "outputId": ""
      },
      "execution_count": 11,
      "outputs": [
        {
          "output_type": "stream",
          "name": "stdout",
          "text": [
            "Title: \"Kumar Dharmasena Told Me...\": Stuart Broad Reveals Chat With Umpire As Steve Smith Survives Close C.. - NDTV Sports\n",
            "Source: NDTV News\n",
            "Description: On the day two of the fifth Ashes series, Steve Smith was saved from a run out on the \"benefit of th...\n",
            "-----------------------\n",
            "Title: \"Umran Malik Box Not Ticked\": Ex-India Star Slams Management For Underutilising Pacer - NDTV Sports\n",
            "Source: NDTV News\n",
            "Description: Umran Malik was picked in the XI for the series opener but bowled just three overs, and also failed ...\n",
            "-----------------------\n",
            "Title: Max Scherzer discusses Mets' Trade Deadline plans - MLB.com\n",
            "Source: MLB.com\n",
            "Description: NEW YORK -- Late Thursday night, with a trade of David Robertson to the Marlins, the Mets effectivel...\n",
            "-----------------------\n"
          ]
        }
      ]
    },
    {
      "cell_type": "code",
      "source": [],
      "metadata": {
        "id": "ciYiveSvYmcb"
      },
      "execution_count": null,
      "outputs": []
    }
  ]
}

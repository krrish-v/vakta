{
  "nbformat": 4,
  "nbformat_minor": 0,
  "metadata": {
    "colab": {
      "provenance": []
    },
    "kernelspec": {
      "name": "python3",
      "display_name": "Python 3"
    },
    "language_info": {
      "name": "python"
    }
  },
  "cells": [
    {
      "cell_type": "code",
      "source": [
        "import requests\n",
        "\n",
        "def get_books_data(book_subject):\n",
        "    base_url = \"https://www.googleapis.com/books/v1/volumes\"\n",
        "    params = {\"q\": book_subject, \"maxResults\": 10, \"key\": \"API KEY\"}\n",
        "\n",
        "    response = requests.get(base_url, params=params)\n",
        "\n",
        "    if response.status_code == 200:\n",
        "        data = response.json()\n",
        "        if \"items\" in data:\n",
        "            return data[\"items\"]\n",
        "        else:\n",
        "            return []\n",
        "    else:\n",
        "        print(\"Error: Unable to fetch book data.\")\n",
        "        return None\n",
        "\n",
        "book_subject =input(\"Enter Book Subject : \")\n",
        "books_data = get_books_data(book_subject)\n",
        "\n",
        "# Print the results\n",
        "if books_data:\n",
        "    for book in books_data:\n",
        "        volume_info = book.get(\"volumeInfo\", {})\n",
        "        title = volume_info.get(\"title\", \"N/A\")\n",
        "        authors = \", \".join(volume_info.get(\"authors\", [\"N/A\"]))\n",
        "        print(f\"Book: {title} - Author(s): {authors}\")\n",
        "else:\n",
        "    print(\"No books found in the search results.\")\n"
      ],
      "metadata": {
        "colab": {
          "base_uri": "https://localhost:8080/"
        },
        "id": "LCSXxm9lfF62",
        "outputId": "a97bb3e5-c843-4ea5-84bf-6223d92a793b"
      },
      "execution_count": 20,
      "outputs": [
        {
          "output_type": "stream",
          "name": "stdout",
          "text": [
            "Enter Book Subject : Stock market\n",
            "Book: Stock Market For Beginners Book: Stock Market Basics Explained for Beginners Investing in the Stock Market - Author(s): Evan J. Houpt, John Border\n",
            "Book: Seasonal Stock Market Trends - Author(s): Jay Kaeppel\n",
            "Book: A History of the Global Stock Market - Author(s): B. Mark Smith\n",
            "Book: Stock Market Wizards - Author(s): Jack D. Schwager\n",
            "Book: How the Stock Market Really Works - Author(s): Leo Gough\n",
            "Book: The New Stock Market - Author(s): Merritt B. Fox, Lawrence Glosten, Gabriel Rauterberg\n",
            "Book: Trade Like an O'Neil Disciple - Author(s): Gil Morales, Chris Kacher\n",
            "Book: Stock Market Liquidity - Author(s): François-Serge Lhabitant, Greg N. Gregoriou\n",
            "Book: Stock Market Trading - Author(s): Geary Hooper\n",
            "Book: Biggs on Finance, Economics, and the Stock Market - Author(s): Barton Biggs\n"
          ]
        }
      ]
    },
    {
      "cell_type": "code",
      "source": [],
      "metadata": {
        "id": "vntBVN0jhrlh"
      },
      "execution_count": null,
      "outputs": []
    }
  ]
}
